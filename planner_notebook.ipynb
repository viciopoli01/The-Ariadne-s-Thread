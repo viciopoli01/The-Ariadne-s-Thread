{
 "cells": [
  {
   "cell_type": "markdown",
   "metadata": {},
   "source": [
    "# Yuo can write your planner here:"
   ]
  },
  {
   "cell_type": "markdown",
   "metadata": {},
   "source": [
    "Do not modify the name of the function. You can add any number of helper functions."
   ]
  },
  {
   "cell_type": "code",
   "execution_count": null,
   "metadata": {},
   "outputs": [],
   "source": [
    "def planner(start, goal, obstacles: list, radius: list) -> list:\n",
    "    \"\"\" Plan a path from start to goal avoiding obstacles.\n",
    "\n",
    "    Args:\n",
    "        start (list): list of x, y coordinates of the start point\n",
    "        goal (list): list of x, y coordinates of the goal point\n",
    "        obstacles (list): list of obstacles, each obstacle is a tuple (x, y, 0)\n",
    "        radius (list): list of radius of obstacles\n",
    "    \n",
    "    Returns:\n",
    "        list: This must be a valid list of connected nodes that form\n",
    "            a path from start to goal node\n",
    "    \"\"\"\n",
    "    \n",
    "    return []"
   ]
  },
  {
   "cell_type": "markdown",
   "metadata": {},
   "source": [
    "Then execute the following cell to run the tests."
   ]
  },
  {
   "cell_type": "code",
   "execution_count": null,
   "metadata": {},
   "outputs": [],
   "source": [
    "!sh run.sh"
   ]
  }
 ],
 "metadata": {
  "kernelspec": {
   "display_name": "dvgo",
   "language": "python",
   "name": "dvgo"
  },
  "language_info": {
   "name": "python",
   "version": "3.10.12"
  }
 },
 "nbformat": 4,
 "nbformat_minor": 2
}
